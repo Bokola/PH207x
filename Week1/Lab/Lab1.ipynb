{
 "metadata": {
  "name": "Lab1"
 },
 "nbformat": 3,
 "nbformat_minor": 0,
 "worksheets": [
  {
   "cells": [
    {
     "cell_type": "markdown",
     "metadata": {},
     "source": [
      "Basic Python Setup and Model"
     ]
    },
    {
     "cell_type": "code",
     "collapsed": false,
     "input": [
      "from pandas import *\n",
      "import numpy as np\n",
      "import pandas as pd\n",
      "import matplotlib.pyplot as plt\n",
      "randn = np.random.randn\n",
      " \n",
      "from statsmodels.iolib.foreign import genfromdta\n",
      "data = genfromdta('C:\\\\Users\\\\felipillo\\\\Documents\\\\GitHub\\\\PH207x\\\\Data\\\\fhs.dta')\n",
      "fhs = pd.DataFrame(data)"
     ],
     "language": "python",
     "metadata": {},
     "outputs": [],
     "prompt_number": 1
    },
    {
     "cell_type": "code",
     "collapsed": false,
     "input": [
      "# Data Cleaner\n",
      "#  check input data by graphing it but also by looking at the \n",
      "#  initial variables using code snippets like:\n",
      "#    fhs[0:10]['cursmoke2'].T\n",
      " \n",
      "col = 'cursmoke2'         # input column\n",
      "#co12 = '2nd input col'   # used if filtering two columns (sex, age?)\n",
      "ncol = 'save'\n",
      "dataframerows = 4434\n",
      "i = 0\n",
      "b1 = 0     # counts for 4 buckets\n",
      "b2 = 0\n",
      "b3 = 0\n",
      "b4 = 0\n",
      "NxN = 0    # Not a Number NaN\n",
      "Uex = 0    # Unexpected values\n",
      " \n",
      "# when an inclusive test is satisfied increment the count\n",
      "# and add to a column if appropriate (sums vs binaries)\n",
      "# if you are adding to a column you need to clear the\n",
      "# comment on the bucket initializer below (1 to 4)\n",
      " \n",
      "fhs[ncol + '1'] = 0\n",
      "# fhs[ncol + '2'] = 0\n",
      "# fhs[ncol + '3'] = 0\n",
      "# fhs[ncol + '4'] = 0\n",
      " \n",
      "while i < dataframerows:\n",
      "    test = fhs.ix[i, col]\n",
      "    if(test == -999):\n",
      "        NxN += 1             # just increment NaN counter\n",
      "    elif(test == 1):         # criteria for bucket 1\n",
      "        fhs[ncol + '1'][b1] = test\n",
      "        b1 += 1\n",
      "    elif(test == 0):         # criteria for bucket 2\n",
      "        # fhs[ncol + '2'][b2] = test\n",
      "        b2 += 1\n",
      "#    elif(test == 7):         # criteria for bucket 3\n",
      "#        fhs[ncol + '3'][b3] = test\n",
      "#        b3 += 1\n",
      "#    elif(test == 4):         # criteria for bucket 3\n",
      "#        fhs[ncol + '4'][b4] = test\n",
      "#        b4 += 1\n",
      "    else:                   # Unexpected value\n",
      "        Uex += 1            # outside of criteria ranges\n",
      "    i += 1\n",
      "print('col_sum', fhs[col].sum(), \"  b1:\", b1, \" b2:\", b2,\n",
      "        \" b3:\", b3, \" b4:\", b4, \" Uex:\", Uex, \" NaN:\", NxN,\n",
      "        \"Count:\", b1 + b2 + b3 + Uex + NxN)\n",
      " \n",
      "# check output data with modified version of:\n",
      "#  fhs[b1-2:b1+3]['save1'].T"
     ],
     "language": "python",
     "metadata": {},
     "outputs": [
      {
       "output_type": "stream",
       "stream": "stdout",
       "text": [
        "('col_sum', -501769, '  b1:', 1727, ' b2:', 2203, ' b3:', 0, ' b4:', 0, ' Uex:', 0, ' NaN:', 504, 'Count:', 4434)\n"
       ]
      }
     ],
     "prompt_number": 2
    },
    {
     "cell_type": "code",
     "collapsed": false,
     "input": [
      "fhs[0:4]['cursmoke2'].T"
     ],
     "language": "python",
     "metadata": {},
     "outputs": [
      {
       "output_type": "pyout",
       "prompt_number": 3,
       "text": [
        "0   -999\n",
        "1      0\n",
        "2      1\n",
        "3      1\n",
        "Name: cursmoke2"
       ]
      }
     ],
     "prompt_number": 3
    },
    {
     "cell_type": "code",
     "collapsed": false,
     "input": [
      "fhs[1725:1730]['save1'].T   # Is the last full cell one before the count \n",
      "                            # ( 0 = (count-1) => count cells )"
     ],
     "language": "python",
     "metadata": {},
     "outputs": [
      {
       "output_type": "pyout",
       "prompt_number": 4,
       "text": [
        "1725    1\n",
        "1726    1\n",
        "1727    0\n",
        "1728    0\n",
        "1729    0\n",
        "Name: save1"
       ]
      }
     ],
     "prompt_number": 4
    },
    {
     "cell_type": "markdown",
     "metadata": {},
     "source": [
      "***Evaluate Hospitals***"
     ]
    },
    {
     "cell_type": "code",
     "collapsed": false,
     "input": [
      "# Collect the hospital data set\n",
      "w1 = pd.io.parsers.read_csv('C:\\\\Users\\\\felipillo\\\\Documents\\\\GitHub\\\\PH207x\\\\Data\\\\hospitalizations.csv')\n",
      "w1"
     ],
     "language": "python",
     "metadata": {},
     "outputs": [
      {
       "html": [
        "<div style=\"max-height:1000px;max-width:1500px;overflow:auto;\">\n",
        "<table border=\"1\" class=\"dataframe\">\n",
        "  <thead>\n",
        "    <tr style=\"text-align: right;\">\n",
        "      <th></th>\n",
        "      <th>Month - 1991</th>\n",
        "      <th>Number - 1991</th>\n",
        "      <th>Month - 1992</th>\n",
        "      <th>Number - 1992</th>\n",
        "    </tr>\n",
        "  </thead>\n",
        "  <tbody>\n",
        "    <tr>\n",
        "      <td><strong>0 </strong></td>\n",
        "      <td>  1</td>\n",
        "      <td> 325</td>\n",
        "      <td>  1</td>\n",
        "      <td> 317</td>\n",
        "    </tr>\n",
        "    <tr>\n",
        "      <td><strong>1 </strong></td>\n",
        "      <td>  2</td>\n",
        "      <td> 312</td>\n",
        "      <td>  2</td>\n",
        "      <td> 302</td>\n",
        "    </tr>\n",
        "    <tr>\n",
        "      <td><strong>2 </strong></td>\n",
        "      <td>  3</td>\n",
        "      <td> 346</td>\n",
        "      <td>  3</td>\n",
        "      <td> 339</td>\n",
        "    </tr>\n",
        "    <tr>\n",
        "      <td><strong>3 </strong></td>\n",
        "      <td>  4</td>\n",
        "      <td> 340</td>\n",
        "      <td>  4</td>\n",
        "      <td> 328</td>\n",
        "    </tr>\n",
        "    <tr>\n",
        "      <td><strong>4 </strong></td>\n",
        "      <td>  5</td>\n",
        "      <td> 355</td>\n",
        "      <td>  5</td>\n",
        "      <td> 361</td>\n",
        "    </tr>\n",
        "    <tr>\n",
        "      <td><strong>5 </strong></td>\n",
        "      <td>  6</td>\n",
        "      <td> 342</td>\n",
        "      <td>  6</td>\n",
        "      <td> 333</td>\n",
        "    </tr>\n",
        "    <tr>\n",
        "      <td><strong>6 </strong></td>\n",
        "      <td>  7</td>\n",
        "      <td> 358</td>\n",
        "      <td>  7</td>\n",
        "      <td> 341</td>\n",
        "    </tr>\n",
        "    <tr>\n",
        "      <td><strong>7 </strong></td>\n",
        "      <td>  8</td>\n",
        "      <td> 346</td>\n",
        "      <td>  8</td>\n",
        "      <td> 343</td>\n",
        "    </tr>\n",
        "    <tr>\n",
        "      <td><strong>8 </strong></td>\n",
        "      <td>  9</td>\n",
        "      <td> 365</td>\n",
        "      <td>  9</td>\n",
        "      <td> 359</td>\n",
        "    </tr>\n",
        "    <tr>\n",
        "      <td><strong>9 </strong></td>\n",
        "      <td> 10</td>\n",
        "      <td> 355</td>\n",
        "      <td> 10</td>\n",
        "      <td> 305</td>\n",
        "    </tr>\n",
        "    <tr>\n",
        "      <td><strong>10</strong></td>\n",
        "      <td> 11</td>\n",
        "      <td> 324</td>\n",
        "      <td> 11</td>\n",
        "      <td> 312</td>\n",
        "    </tr>\n",
        "    <tr>\n",
        "      <td><strong>11</strong></td>\n",
        "      <td> 12</td>\n",
        "      <td> 342</td>\n",
        "      <td> 12</td>\n",
        "      <td> 321</td>\n",
        "    </tr>\n",
        "  </tbody>\n",
        "</table>\n",
        "</div>"
       ],
       "output_type": "pyout",
       "prompt_number": 6,
       "text": [
        "    Month - 1991  Number - 1991  Month - 1992  Number - 1992\n",
        "0              1            325             1            317\n",
        "1              2            312             2            302\n",
        "2              3            346             3            339\n",
        "3              4            340             4            328\n",
        "4              5            355             5            361\n",
        "5              6            342             6            333\n",
        "6              7            358             7            341\n",
        "7              8            346             8            343\n",
        "8              9            365             9            359\n",
        "9             10            355            10            305\n",
        "10            11            324            11            312\n",
        "11            12            342            12            321"
       ]
      }
     ],
     "prompt_number": 6
    },
    {
     "cell_type": "code",
     "collapsed": false,
     "input": [
      "# Work out Septembers proportion of admissions for 1991\n",
      "print(w1['Number - 1991'].sum(), w1['Number - 1991'][8], w1['Number - 1991'][8] / w1['Number - 1991'].sum())"
     ],
     "language": "python",
     "metadata": {},
     "outputs": [
      {
       "output_type": "stream",
       "stream": "stdout",
       "text": [
        "(4110, 365, 0)\n"
       ]
      }
     ],
     "prompt_number": 7
    },
    {
     "cell_type": "code",
     "collapsed": false,
     "input": [
      "# Work out Septembers proportion of admissions for 1992\n",
      "print(w1['Number - 1992'].sum(), w1['Number - 1992'][8], w1['Number - 1992'][8] / w1['Number - 1992'].sum())"
     ],
     "language": "python",
     "metadata": {},
     "outputs": [
      {
       "output_type": "stream",
       "stream": "stdout",
       "text": [
        "(3961, 359, 0)\n"
       ]
      }
     ],
     "prompt_number": 8
    },
    {
     "cell_type": "code",
     "collapsed": false,
     "input": [
      "# Data Cleaner\n",
      "col = 'prevhyp1'         # input column\n",
      "#co12 = '2nd input col'   # used if filtering two columns (sex, age?)\n",
      "ncol = 'save'\n",
      "dataframerows = 4434\n",
      "i = 0\n",
      "b1 = 0     # counts for 4 buckets\n",
      "b2 = 0\n",
      "b3 = 0\n",
      "b4 = 0\n",
      "NxN = 0    # Not a Number NaN\n",
      "Uex = 0    # Unexpected values\n",
      " \n",
      "# when an inclusive test is satisfied increment the count\n",
      "# and add to a column if appropriate (sums vs binaries)\n",
      "# if you are adding to a column you need to clear the\n",
      "# comment on the bucket initializer below (1 to 4)\n",
      " \n",
      "# fhs[ncol + '1'] = 0\n",
      "# fhs[ncol + '2'] = 0\n",
      "# fhs[ncol + '3'] = 0\n",
      "# fhs[ncol + '4'] = 0\n",
      " \n",
      "while i < dataframerows:\n",
      "    test = fhs.ix[i, col]\n",
      "    if(test == -999):\n",
      "        NxN += 1             # just increment NaN counter\n",
      "    elif(test == 1):         # criteria for bucket 1\n",
      "        #fhs[ncol + '1'][b1] = test\n",
      "        b1 += 1\n",
      "    elif(test == 0):         # criteria for bucket 2\n",
      "        # fhs[ncol + '2'][b2] = test\n",
      "        b2 += 1\n",
      "#    elif(test == 7):         # criteria for bucket 3\n",
      "#        fhs[ncol + '3'][b3] = test\n",
      "#        b3 += 1\n",
      "#    elif(test == 4):         # criteria for bucket 3\n",
      "#        fhs[ncol + '4'][b4] = test\n",
      "#        b4 += 1\n",
      "    else:                   # Unexpected value\n",
      "        Uex += 1            # outside of criteria ranges\n",
      "    i += 1\n",
      "print('col_sum', fhs[col].sum(), \"  b1:\", b1, \" b2:\", b2,\n",
      "        \" b3:\", b3, \" b4:\", b4, \" Uex:\", Uex, \" NaN:\", NxN,\n",
      "        \"Count:\", b1 + b2 + b3 + Uex + NxN) "
     ],
     "language": "python",
     "metadata": {},
     "outputs": [
      {
       "output_type": "stream",
       "stream": "stdout",
       "text": [
        "('col_sum', 1430, '  b1:', 1430, ' b2:', 3004, ' b3:', 0, ' b4:', 0, ' Uex:', 0, ' NaN:', 0, 'Count:', 4434)\n"
       ]
      }
     ],
     "prompt_number": 9
    },
    {
     "cell_type": "code",
     "collapsed": false,
     "input": [
      "1430//(1430+3004)"
     ],
     "language": "python",
     "metadata": {},
     "outputs": [
      {
       "output_type": "pyout",
       "prompt_number": 13,
       "text": [
        "0"
       ]
      }
     ],
     "prompt_number": 13
    },
    {
     "cell_type": "code",
     "collapsed": false,
     "input": [
      "# question how many females had it ... how are females represented? as 2 vs males as 1\n",
      "fhs[0:3]['sex1'].T"
     ],
     "language": "python",
     "metadata": {},
     "outputs": [
      {
       "output_type": "pyout",
       "prompt_number": 14,
       "text": [
        "0    1\n",
        "1    2\n",
        "2    1\n",
        "Name: sex1"
       ]
      }
     ],
     "prompt_number": 14
    },
    {
     "cell_type": "code",
     "collapsed": false,
     "input": [
      "# Check you have reasonable numbers for male and female and that all cells have one or other\n",
      "col = 'sex1'   \n",
      "i = 0\n",
      "fhs['work1'] = fhs['work2'] = fhs['work3'] = fhs['work4'] = 0\n",
      "while i < 4434:\n",
      "    test = fhs.ix[i, col]\n",
      "    if(test == 1):\n",
      "        fhs['work1'][i] = 1  # Male\n",
      "    elif(test == 2):\n",
      "        fhs['work2'][i] = 1  # Female\n",
      "    elif(test == -999):\n",
      "        fhs['work3'][i] = 1  # NaN\n",
      "    else:\n",
      "        fhs['work4'][i] = 1  # Unexpected value\n",
      "    i += 1\n",
      "print('finished', fhs[col].sum(), \"  m:\", fhs['work1'].sum(),\n",
      "      \" f:\", fhs['work2'].sum(), \" NaN:\", fhs['work3'].sum(), \n",
      "      \" ?:\", fhs['work4'].sum())"
     ],
     "language": "python",
     "metadata": {},
     "outputs": [
      {
       "output_type": "stream",
       "stream": "stdout",
       "text": [
        "('finished', 6924, '  m:', 1944, ' f:', 2490, ' NaN:', 0, ' ?:', 0)\n"
       ]
      }
     ],
     "prompt_number": 15
    },
    {
     "cell_type": "code",
     "collapsed": false,
     "input": [
      "# So now work out Males with hyp, f with h, and both without hypertension\n",
      "col = 'prevhyp1'   \n",
      "col2 = 'sex1'\n",
      "i = 0\n",
      "fhs['work1'] = fhs['work2'] = fhs['work3'] = fhs['work4'] = 0\n",
      "while i < 4434:\n",
      "    test = fhs.ix[i, col]\n",
      "    test2 = fhs.ix[i, col2]\n",
      "    if(test == 1 and test2 == 1):\n",
      "        fhs['work1'][i] = 1  # Male with Hyp\n",
      "    elif(test == 1 and test2 == 2):\n",
      "        fhs['work2'][i] = 1  # Female with hyp\n",
      "    elif(test == 0 and test2 == 1):\n",
      "        fhs['work3'][i] = 1  # Male without\n",
      "    elif(test == 0 and test2 == 2):\n",
      "        fhs['work4'][i] = 1  # Female without\n",
      "    i += 1\n",
      "print('finished', fhs[col].sum(), \"  M+H:\", fhs['work1'].sum(),\n",
      "      \" F+H:\", fhs['work2'].sum(), \" M w/o:\", fhs['work3'].sum(), \n",
      "      \" F w/o:\", fhs['work4'].sum())"
     ],
     "language": "python",
     "metadata": {},
     "outputs": [
      {
       "output_type": "stream",
       "stream": "stdout",
       "text": [
        "('finished', 1430, '  M+H:', 631, ' F+H:', 799, ' M w/o:', 1313, ' F w/o:', 1691)\n"
       ]
      }
     ],
     "prompt_number": 16
    },
    {
     "cell_type": "code",
     "collapsed": false,
     "input": [
      "# female proportion of those with hypertension\n",
      "799 / (631 + 799)"
     ],
     "language": "python",
     "metadata": {},
     "outputs": [
      {
       "output_type": "pyout",
       "prompt_number": 17,
       "text": [
        "0"
       ]
      }
     ],
     "prompt_number": 17
    },
    {
     "cell_type": "code",
     "collapsed": false,
     "input": [
      "# as an experiment I want to try plotting ..\n",
      "# bar chart with HM HF XM XF using proportions not absolutes\n",
      "import matplotlib.pyplot as plt\n",
      "MH = 631\n",
      "FH = 799\n",
      "Mx = 1313\n",
      "Fx = 1691\n",
      " \n",
      "menMeans = (MH, Mx)\n",
      "womenMeans = (FH, Fx)\n",
      "ind = np.arange(2)  # the x locations for the groups\n",
      "width = 0.35       # the width of the bars\n",
      "height = 4\n",
      " \n",
      "fig = plt.figure()\n",
      "ax = fig.add_subplot(111)\n",
      "rects1 = ax.bar(ind, menMeans, width, color='r')\n",
      "rects2 = ax.bar(ind+width, womenMeans, width, color='y')\n",
      " \n",
      "ax.legend((rects1[0], rects2[0]), ('Men', 'Women'))\n",
      " \n",
      "plt.title('Hypertension Male/Female')\n",
      "plt.grid(True)\n",
      "plt.plot()"
     ],
     "language": "python",
     "metadata": {},
     "outputs": [
      {
       "output_type": "pyout",
       "prompt_number": 18,
       "text": [
        "[]"
       ]
      },
      {
       "output_type": "display_data",
       "png": "[encoded data removed]"
      }
     ],
     "prompt_number": 18
    },
    {
     "cell_type": "markdown",
     "metadata": {},
     "source": [
      "BODY MASS INDEX 1"
     ]
    },
    {
     "cell_type": "code",
     "collapsed": false,
     "input": [
      "from pandas import *\n",
      "import numpy as np\n",
      "import pandas as pd\n",
      "import matplotlib.pyplot as plt\n",
      "randn = np.random.randn\n",
      " \n",
      "from statsmodels.iolib.foreign import genfromdta\n",
      "data = genfromdta('C:\\\\Users\\\\felipillo\\\\Documents\\\\GitHub\\\\PH207x\\\\Data\\\\fhs.dta')\n",
      "fhs = pd.DataFrame(data)\n",
      " \n",
      "# How many have a BMI > 25 at exam1  = bmi1\n",
      "col = 'bmi1'    \n",
      "i = 0\n",
      "fhs['work1'] = fhs['work2'] = fhs['work3'] = fhs['work4'] = fhs['work5'] = 0\n",
      "while i < 4434:\n",
      "    test = fhs.ix[i, col]\n",
      "    if(test > 25):\n",
      "        fhs['work1'][i] = 1  # Fat\n",
      "        fhs['work5'][i] = test\n",
      "    elif(test <= 25 and test > 0):\n",
      "        fhs['work2'][i] = 1  # Not Fat\n",
      "        fhs['work5'][i] = test\n",
      "    elif(test == -999):\n",
      "        fhs['work3'][i] = 1  # NaN\n",
      "    elif(test <= 0):\n",
      "        fhs['work4'][i] = 1  # Unexpected value\n",
      "    i += 1\n",
      "print(\"  F:\", fhs['work1'].sum(),\n",
      "      \" ok:\", fhs['work2'].sum(), \" NaN:\", fhs['work3'].sum(), \n",
      "      \" ?:\", fhs['work4'].sum())\n",
      "print('percent (as proportion) with high bmi:', \n",
      "        (fhs['work1'].sum() / (fhs['work1'].sum() +fhs['work2'].sum())) )"
     ],
     "language": "python",
     "metadata": {},
     "outputs": [
      {
       "output_type": "stream",
       "stream": "stdout",
       "text": [
        "('  F:', 2422, ' ok:', 1993, ' NaN:', 19, ' ?:', 0)\n",
        "('percent (as proportion) with high bmi:', 0)\n"
       ]
      }
     ],
     "prompt_number": 20
    },
    {
     "cell_type": "code",
     "collapsed": false,
     "input": [
      "# Make a scatterplot of BMI (exam 1) vs BMI (exam 2)\n",
      "#  Is a higher BMI at exam 1 associated with a _______ BMI at exam 2?\n",
      "\n",
      "col = 'bmi2'    \n",
      "i = 0               # w1 = numbers, w2 = count of numbers, \n",
      "                    # w3 = NaN count, w4 = count zeros\n",
      "fhs['work1'] = fhs['work2'] = fhs['work3'] = fhs['work4'] = 0\n",
      "while i < 4434:\n",
      "    test = fhs.ix[i, col]\n",
      "    if(test != -999):\n",
      "        fhs['work1'][i] = test  # valid number\n",
      "        fhs['work2'][i] = 1     # count valid numbers\n",
      "        if(test == 0):\n",
      "            fhs['work4'][i] = 1 # count of zeros\n",
      "    else:\n",
      "        fhs['work3'][i] = 1     # count NaNs\n",
      "    i += 1\n",
      "print(\"Sum of Valid BMIs:\", fhs['work1'].sum(),\n",
      "      \" No of Valid BMIs:\", fhs['work2'].sum(), \n",
      "      \" NaN:\", fhs['work3'].sum(), \n",
      "      \" Zeros:\", fhs['work4'].sum())\n",
      "print(fhs['bmi1'].mean(),fhs['work1'].mean())"
     ],
     "language": "python",
     "metadata": {},
     "outputs": [
      {
       "output_type": "stream",
       "stream": "stdout",
       "text": [
        "('Sum of Valid BMIs:', 99396, ' No of Valid BMIs:', 3914, ' NaN:', 520, ' Zeros:', 0)\n",
        "(21.454623364907491, 22.416779431664413)"
       ]
      },
      {
       "output_type": "stream",
       "stream": "stdout",
       "text": [
        "\n"
       ]
      }
     ],
     "prompt_number": 21
    },
    {
     "cell_type": "code",
     "collapsed": false,
     "input": [
      "for i in range(0,10):\n",
      "    print(fhs.ix[i,'work5'], fhs.ix[i+2420,'work5'], fhs.ix[i,'work1'], fhs.ix[i,'work1'])"
     ],
     "language": "python",
     "metadata": {},
     "outputs": [
      {
       "output_type": "stream",
       "stream": "stdout",
       "text": [
        "(26, 23, 0, 0)\n",
        "(28, 24, 29, 29)\n",
        "(25, 26, 25, 25)\n",
        "(28, 20, 30, 30)\n",
        "(23, 26, 23, 23)\n",
        "(30, 26, 31, 31)\n",
        "(33, 26, 36, 36)\n",
        "(21, 26, 22, 22)\n",
        "(26, 26, 25, 25)\n",
        "(23, 20, 27, 27)\n"
       ]
      }
     ],
     "prompt_number": 23
    },
    {
     "cell_type": "code",
     "collapsed": false,
     "input": [
      "from pylab import *\n",
      "from pandas import *\n",
      "import numpy as np\n",
      "import pandas as pd\n",
      " \n",
      "mask = pd.core.common.notnull(fhs)\n",
      "i = (mask['bmi1'] & mask['bmi2']).values\n",
      "axes([0,0,1.3,1.3])\n",
      "xlim(10,60)\n",
      "ylim(10,60)\n",
      "scatter(fhs['bmi1'][i], fhs['bmi2'][i]) "
     ],
     "language": "python",
     "metadata": {},
     "outputs": [
      {
       "output_type": "pyout",
       "prompt_number": 24,
       "text": [
        "<matplotlib.collections.PathCollection at 0x47b92b0>"
       ]
      },
      {
       "output_type": "display_data",
       "png": "[encoded data removed]"
      }
     ],
     "prompt_number": 24
    },
    {
     "cell_type": "markdown",
     "metadata": {},
     "source": [
      "BODY MASS INDEX 2"
     ]
    },
    {
     "cell_type": "code",
     "collapsed": false,
     "input": [
      "from pandas import *\n",
      "import numpy as np\n",
      "import scipy as sc\n",
      "import pandas as pd\n",
      "import matplotlib.pyplot as plt\n",
      "randn = np.random.randn\n",
      " \n",
      "from statsmodels.iolib.foreign import genfromdta\n",
      "data = genfromdta('C:\\\\Users\\\\felipillo\\\\Documents\\\\GitHub\\\\PH207x\\\\Data\\\\fhs.dta')\n",
      "fhs = pd.DataFrame(data)\n",
      " \n",
      "# Data Cleaner\n",
      "#  check input data by graphing it but also by looking at the \n",
      "#  initial variables using code snippets like:\n",
      "#    fhs[0:10]['cursmoke2'].T\n",
      " \n",
      "col = 'bmi1'         # input column\n",
      "co12 = 'sex2'   # used if filtering two columns (sex, age?)\n",
      "ncol = 'savebmi1'\n",
      "dataframerows = 4434\n",
      "i = 0\n",
      "b1 = 0     # counts for 4 buckets\n",
      "b2 = 0\n",
      "b3 = 0\n",
      "b4 = 0\n",
      "NxN = 0    # Not a Number NaN\n",
      "Uex = 0    # Unexpected values\n",
      " \n",
      "# when an inclusive test is satisfied increment the count\n",
      "# and add to a column if appropriate (sums vs binaries)\n",
      "# if you are adding to a column you need to clear the\n",
      "# comment on the bucket initializer below (1 to 4)\n",
      " \n",
      "fhs['nIndex'] = 0.\n",
      "fhs[ncol + '1'] = 0.\n",
      "fhs[ncol + '2'] = 0.\n",
      "fhs[ncol + '3'] = 0.\n",
      "fhs[ncol + '4'] = 0.\n",
      " \n",
      "while i < dataframerows:\n",
      "    test = fhs.ix[i, col]\n",
      "    test2 = fhs.ix[i, col2]\n",
      "    if(test == -999):\n",
      "        NxN += 1             # just increment NaN counter\n",
      "    elif(test > 0):         # criteria for bucket 1\n",
      "        fhs[ncol + '1'][b1] = test\n",
      "        fhs['nIndex'][b1] = 25\n",
      "        b1 += 1\n",
      "        if( test2 == 1):\n",
      "            fhs[ncol + '2'][b2] = test\n",
      "            fhs[ncol + '4'][b1] = test\n",
      "            b2 += 1\n",
      "        elif (test2 == 2):\n",
      "            fhs[ncol + '3'][b3] = test\n",
      "            fhs[ncol + '4'][b1] = test\n",
      "            b3 += 1\n",
      "        else:\n",
      "            b4 += 1\n",
      "    else:                   # Unexpected value\n",
      "        Uex += 1            # outside of criteria ranges\n",
      "    i += 1\n",
      "    \n",
      "print('col_sum', fhs[col].sum(), \"  b1:\", b1, \" b2:\", b2,\n",
      "        \" b3:\", b3, \" b4:\", b4, \" NaN:\", NxN, \" Uex:\", Uex,\n",
      "        \"Count:\", b1 + Uex + NxN)\n",
      "print('mean bmi1', fhs['savebmi11'].mean())\n",
      "print('mean bmi1 using sum', fhs['savebmi11'].sum() / b1)\n",
      "print('median bmi1', fhs['savebmi11'].median(), '\\n')\n",
      " \n",
      "print('Men', b2, fhs['savebmi12'].sum(), 'Women', b3, fhs['savebmi13'].sum(), 'Checksum', b2+b3)\n",
      "print('mean bmi1 M', fhs['savebmi12'].sum() / b2, 'mean bmi1 F', fhs['savebmi13'].sum() / b3)\n",
      " \n",
      "# to get the means working you need to create dataframes of the correct size\n",
      "df = fhs.ix[0:4414,'savebmi11']\n",
      "DataFrame(df)\n",
      "df2 = fhs.ix[0:1938,'savebmi12']\n",
      "DataFrame(df2)\n",
      "df3 = fhs.ix[0:2475,'savebmi13']\n",
      "DataFrame(df3)\n",
      " \n",
      "print('Using Dataframes of data length\\n', 'Means, all, male, female:', \n",
      "      df.mean(), df2.mean(), df3.mean(), 'Median', df.median(), '\\n')\n",
      " \n",
      " \n",
      "print(sc.stats.scoreatpercentile(fhs['savebmi11'], 25), sc.stats.scoreatpercentile(fhs['savebmi11'], 50),\n",
      "      sc.stats.scoreatpercentile(fhs['savebmi11'], 75))\n",
      " \n",
      " \n",
      "# check output data with modified version of:\n",
      "#  fhs[b1-2:b1+3]['save1'].T"
     ],
     "language": "python",
     "metadata": {},
     "outputs": [
      {
       "ename": "AttributeError",
       "evalue": "'module' object has no attribute 'stats'",
       "output_type": "pyerr",
       "traceback": [
        "\u001b[1;31m---------------------------------------------------------------------------\u001b[0m\n\u001b[1;31mAttributeError\u001b[0m                            Traceback (most recent call last)",
        "\u001b[1;32m<ipython-input-26-8e28f37ce853>\u001b[0m in \u001b[0;36m<module>\u001b[1;34m()\u001b[0m\n\u001b[0;32m     83\u001b[0m \u001b[1;33m\u001b[0m\u001b[0m\n\u001b[0;32m     84\u001b[0m \u001b[1;33m\u001b[0m\u001b[0m\n\u001b[1;32m---> 85\u001b[1;33m print(sc.stats.scoreatpercentile(fhs['savebmi11'], 25), sc.stats.scoreatpercentile(fhs['savebmi11'], 50),\n\u001b[0m\u001b[0;32m     86\u001b[0m       sc.stats.scoreatpercentile(fhs['savebmi11'], 75))\n\u001b[0;32m     87\u001b[0m \u001b[1;33m\u001b[0m\u001b[0m\n",
        "\u001b[1;31mAttributeError\u001b[0m: 'module' object has no attribute 'stats'"
       ]
      },
      {
       "output_type": "stream",
       "stream": "stdout",
       "text": [
        "('col_sum', 95129.799999999814, '  b1:', 4415, ' b2:', 1939, ' b3:', 2476, ' b4:', 0, ' NaN:', 19, ' Uex:', 0, 'Count:', 4434)\n",
        "('mean bmi1', 25.735408209291805)\n",
        "('mean bmi1 using sum', 25.846160815402005)\n",
        "('median bmi1', 25.42, '\\n')\n",
        "('Men', 1939, 50742.820000000007, 'Women', 2476, 63367.980000000163, 'Checksum', 4415)\n",
        "('mean bmi1 M', 26.169582258896341, 'mean bmi1 F', 25.592883683360323)\n",
        "('Using Dataframes of data length\\n', 'Means, all, male, female:', 25.846160815402005, 26.169582258896341, 25.592883683360323, 'Median', 25.45, '\\n')\n"
       ]
      }
     ],
     "prompt_number": 26
    },
    {
     "cell_type": "code",
     "collapsed": false,
     "input": [
      "df.describe() # all"
     ],
     "language": "python",
     "metadata": {},
     "outputs": [
      {
       "output_type": "pyout",
       "prompt_number": 27,
       "text": [
        "count    4415.000000\n",
        "mean       25.846161\n",
        "std         4.101821\n",
        "min        15.540000\n",
        "25%        23.090000\n",
        "50%        25.450000\n",
        "75%        28.090000\n",
        "max        56.800000"
       ]
      }
     ],
     "prompt_number": 27
    },
    {
     "cell_type": "code",
     "collapsed": false,
     "input": [
      "df2.describe() # men"
     ],
     "language": "python",
     "metadata": {},
     "outputs": [
      {
       "output_type": "pyout",
       "prompt_number": 28,
       "text": [
        "count    1939.000000\n",
        "mean       26.169582\n",
        "std         3.407115\n",
        "min        15.540000\n",
        "25%        23.970000\n",
        "50%        26.080000\n",
        "75%        28.320000\n",
        "max        40.380000"
       ]
      }
     ],
     "prompt_number": 28
    },
    {
     "cell_type": "code",
     "collapsed": false,
     "input": [
      "df3.describe() # women"
     ],
     "language": "python",
     "metadata": {},
     "outputs": [
      {
       "output_type": "pyout",
       "prompt_number": 29,
       "text": [
        "count    2476.000000\n",
        "mean       25.592884\n",
        "std         4.557443\n",
        "min        15.960000\n",
        "25%        22.540000\n",
        "50%        24.830000\n",
        "75%        27.820000\n",
        "max        56.800000"
       ]
      }
     ],
     "prompt_number": 29
    },
    {
     "cell_type": "code",
     "collapsed": false,
     "input": [
      "print(\"male iqr =\", 28.320000-23.970000, \"female iqr =\", 27.820000 - 22.540000)"
     ],
     "language": "python",
     "metadata": {},
     "outputs": [
      {
       "output_type": "stream",
       "stream": "stdout",
       "text": [
        "('male iqr =', 4.350000000000001, 'female iqr =', 5.280000000000001)\n"
       ]
      }
     ],
     "prompt_number": 30
    },
    {
     "cell_type": "markdown",
     "metadata": {},
     "source": [
      "Now Only BMI for participants in exam 1 and 2"
     ]
    },
    {
     "cell_type": "code",
     "collapsed": false,
     "input": [
      "from pandas import *\n",
      "import numpy as np\n",
      "import scipy as sc\n",
      "import pandas as pd\n",
      "import matplotlib.pyplot as plt\n",
      "randn = np.random.randn\n",
      " \n",
      "from statsmodels.iolib.foreign import genfromdta\n",
      "#data = genfromdta('F:\\\\BioStatistics\\\\fds\\\\fhs.dta')\n",
      "fhs = pd.DataFrame(data)\n",
      " \n",
      "# Data Cleaner\n",
      "#  check input data by graphing it but also by looking at the \n",
      "#  initial variables using code snippets like:\n",
      "#    fhs[0:10]['cursmoke2'].T\n",
      " \n",
      "ncol = 'xx'\n",
      "dataframerows = 4434\n",
      "i = 0\n",
      "b1 = 0     # counts for 4 buckets\n",
      "b2 = 0\n",
      "b3 = 0\n",
      "b4 = 0\n",
      "NxN = 0    # Not a Number NaN\n",
      "Uex = 0    # Unexpected values\n",
      " \n",
      "# when an inclusive test is satisfied increment the count\n",
      "# and add to a column if appropriate (sums vs binaries)\n",
      "# if you are adding to a column you need to clear the\n",
      "# comment on the bucket initializer below (1 to 4)\n",
      " \n",
      "fhs[ncol + '1'] = 0.\n",
      "fhs[ncol + '2'] = 0.\n",
      "fhs[ncol + '3'] = 0.\n",
      "fhs[ncol + '4'] = 0.\n",
      " \n",
      "while i < dataframerows:\n",
      "    test = fhs.ix[i, 'bmi1']\n",
      "    test2 = fhs.ix[i, 'bmi2']\n",
      "    if(test == -999 or test2 == -999):\n",
      "        NxN += 1            \n",
      "    elif(test > 0 and test2 > 0):       \n",
      "        fhs[ncol + '1'][b1] = test\n",
      "        fhs[ncol + '2'][b1] = test2\n",
      "        fhs[ncol + '3'][b1] = test2 - test\n",
      "        b1 += 1\n",
      "    else:                   # Unexpected value\n",
      "        Uex += 1            # outside of criteria ranges\n",
      "    i += 1\n",
      "    \n",
      "print('col_sum', fhs[col].sum(), \"  b1:\", b1, \" b2:\", b2,\n",
      "        \" b3:\", b3, \" b4:\", b4, \" NaN:\", NxN, \" Uex:\", Uex,\n",
      "        \"Count:\", b1 + Uex + NxN)\n",
      " \n",
      "df = fhs.ix[0:3908,'xx1']\n",
      "DataFrame(df)\n",
      "df2 = fhs.ix[0:3908,'xx2']\n",
      "DataFrame(df2)\n",
      "df3 = fhs.ix[0:3908,'xx3']\n",
      "DataFrame(df3)"
     ],
     "language": "python",
     "metadata": {},
     "outputs": [
      {
       "output_type": "stream",
       "stream": "stdout",
       "text": [
        "('col_sum', 95129.799999999814, '  b1:', 3909, ' b2:', 0, ' b3:', 0, ' b4:', 0, ' NaN:', 525, ' Uex:', 0, 'Count:', 4434)\n"
       ]
      },
      {
       "output_type": "pyout",
       "prompt_number": 33,
       "text": [
        "<class 'pandas.core.frame.DataFrame'>\n",
        "Int64Index: 3909 entries, 0 to 3908\n",
        "Data columns:\n",
        "xx3    3909  non-null values\n",
        "dtypes: float64(1)"
       ]
      }
     ],
     "prompt_number": 33
    },
    {
     "cell_type": "code",
     "collapsed": false,
     "input": [
      "df.describe() # all"
     ],
     "language": "python",
     "metadata": {},
     "outputs": [
      {
       "output_type": "pyout",
       "prompt_number": 34,
       "text": [
        "count    3909.000000\n",
        "mean       25.830489\n",
        "std         4.058368\n",
        "min        15.540000\n",
        "25%        23.090000\n",
        "50%        25.420000\n",
        "75%        28.040000\n",
        "max        56.800000"
       ]
      }
     ],
     "prompt_number": 34
    },
    {
     "cell_type": "code",
     "collapsed": false,
     "input": [
      "df2.describe() # all"
     ],
     "language": "python",
     "metadata": {},
     "outputs": [
      {
       "output_type": "pyout",
       "prompt_number": 35,
       "text": [
        "count    3909.000000\n",
        "mean       25.898319\n",
        "std         4.123881\n",
        "min        15.330000\n",
        "25%        23.090000\n",
        "50%        25.500000\n",
        "75%        28.050000\n",
        "max        56.800000"
       ]
      }
     ],
     "prompt_number": 35
    },
    {
     "cell_type": "code",
     "collapsed": false,
     "input": [
      "df3.describe() # all"
     ],
     "language": "python",
     "metadata": {},
     "outputs": [
      {
       "output_type": "pyout",
       "prompt_number": 36,
       "text": [
        "count    3909.000000\n",
        "mean        0.067831\n",
        "std         1.801516\n",
        "min       -10.500000\n",
        "25%        -0.870000\n",
        "50%         0.150000\n",
        "75%         1.090000\n",
        "max        10.430000"
       ]
      }
     ],
     "prompt_number": 36
    },
    {
     "cell_type": "code",
     "collapsed": false,
     "input": [
      "10.430000 - -10.500000"
     ],
     "language": "python",
     "metadata": {},
     "outputs": [
      {
       "output_type": "pyout",
       "prompt_number": 37,
       "text": [
        "20.93"
       ]
      }
     ],
     "prompt_number": 37
    },
    {
     "cell_type": "code",
     "collapsed": false,
     "input": [
      "print(0.067831-2*1.801516, 0.067831+2*1.801516 ) # 95% = mean +/- 2SD"
     ],
     "language": "python",
     "metadata": {},
     "outputs": [
      {
       "output_type": "stream",
       "stream": "stdout",
       "text": [
        "(-3.535201, 3.6708629999999998)\n"
       ]
      }
     ],
     "prompt_number": 38
    },
    {
     "cell_type": "code",
     "collapsed": false,
     "input": [
      "plt.figure();\n",
      "df.diff().hist(bins=50)"
     ],
     "language": "python",
     "metadata": {},
     "outputs": [
      {
       "output_type": "pyout",
       "prompt_number": 39,
       "text": [
        "<matplotlib.axes.AxesSubplot at 0x45361b0>"
       ]
      },
      {
       "output_type": "display_data",
       "png": "[encoded data removed]"
      }
     ],
     "prompt_number": 39
    },
    {
     "cell_type": "code",
     "collapsed": false,
     "input": [
      "plt.figure();\n",
      "df.diff().hist(bins=200)"
     ],
     "language": "python",
     "metadata": {},
     "outputs": [
      {
       "output_type": "pyout",
       "prompt_number": 40,
       "text": [
        "<matplotlib.axes.AxesSubplot at 0x4924af0>"
       ]
      },
      {
       "output_type": "display_data",
       "png": "[encoded data removed]"
      }
     ],
     "prompt_number": 40
    }
   ],
   "metadata": {}
  }
 ]
}